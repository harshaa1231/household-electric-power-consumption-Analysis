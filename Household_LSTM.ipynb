{
  "cells": [
    {
      "cell_type": "code",
      "execution_count": null,
      "metadata": {
        "id": "cZIGh-AKk3Cj"
      },
      "outputs": [],
      "source": [
        "import datetime\n",
        "from keras.models import Sequential\n",
        "from keras.layers import Dense\n",
        "from keras.layers import Flatten\n",
        "from keras.layers import LSTM\n",
        "from datetime import datetime\n",
        "import pandas as pd\n",
        "import os"
      ]
    },
    {
      "cell_type": "code",
      "execution_count": null,
      "metadata": {
        "colab": {
          "base_uri": "https://localhost:8080/"
        },
        "id": "f87FJOoulGqF",
        "outputId": "391810af-2100-4920-f8b4-3064203319d7"
      },
      "outputs": [
        {
          "output_type": "stream",
          "name": "stdout",
          "text": [
            "Mounted at /content/drive/\n"
          ]
        }
      ],
      "source": [
        "#Mount Gdrive\n",
        "from google.colab import drive\n",
        "drive.mount('/content/drive/')"
      ]
    },
    {
      "cell_type": "code",
      "execution_count": null,
      "metadata": {
        "colab": {
          "base_uri": "https://localhost:8080/"
        },
        "id": "gR8T1iIilHYn",
        "outputId": "fabc1e11-0afd-4735-de29-5580ff837a8b"
      },
      "outputs": [
        {
          "output_type": "stream",
          "name": "stdout",
          "text": [
            "/content/drive/My Drive/MLCR\n"
          ]
        }
      ],
      "source": [
        "#Set current working directory\n",
        "%cd /content/drive/My Drive/MLCR/"
      ]
    },
    {
      "cell_type": "code",
      "execution_count": null,
      "metadata": {
        "colab": {
          "base_uri": "https://localhost:8080/",
          "height": 36
        },
        "id": "P-iB_-wplNce",
        "outputId": "0e3d1954-72b2-4e99-8d21-bddaa4c6671a"
      },
      "outputs": [
        {
          "output_type": "execute_result",
          "data": {
            "text/plain": [
              "'/content/drive/My Drive/MLCR'"
            ],
            "application/vnd.google.colaboratory.intrinsic+json": {
              "type": "string"
            }
          },
          "metadata": {},
          "execution_count": 19
        }
      ],
      "source": [
        "import os\n",
        "os.getcwd()"
      ]
    },
    {
      "cell_type": "code",
      "execution_count": null,
      "metadata": {
        "colab": {
          "base_uri": "https://localhost:8080/"
        },
        "id": "OSxyEqTLl8rp",
        "outputId": "74d2e992-30de-4416-e7ed-9f45b87e0422"
      },
      "outputs": [
        {
          "output_type": "stream",
          "name": "stdout",
          "text": [
            "['Siddhi_Joshi_20070122513_Grp_11_Regression.pdf', 'Siddhi_Joshi_20070122513_Grp_11_Classification.pdf', 'Mini_Project_Statment_Grp_12_Harshvardhan.docx', 'Mini_Project_Statment_Grp_12_Harshvardhan.pdf', 'Mini_Project_Statment_Grp_12_Siddhi_Joshi_MLCR.docx', 'Mini_Project_Statment_Grp_12_Siddhi_Joshi_MLCR.pdf', 'Siddhi_Joshi_Electricity_Data.xlsx', 'siddhi_household_power_consumption.txt', 'Nandakumar_household_power_comsumption.txt', 'Harsha_household _power_consumption.rtf', 'household_power_consumption.txt', 'Harsh_household_power_consumption.txt', 'household_daily.csv']\n"
          ]
        }
      ],
      "source": [
        "import os\n",
        "print(os.listdir(\"../MLCR\"))"
      ]
    },
    {
      "cell_type": "code",
      "execution_count": null,
      "metadata": {
        "id": "NzjdOt5LmV5B"
      },
      "outputs": [],
      "source": [
        "df = pd.read_csv('../MLCR/siddhi_household_power_consumption.txt',sep = ';',\n",
        "                parse_dates={'dt':['Date','Time']},\n",
        "                infer_datetime_format=True,\n",
        "                low_memory=False, na_values=['nan','?'],\n",
        "                index_col='dt')"
      ]
    },
    {
      "cell_type": "code",
      "execution_count": null,
      "metadata": {
        "colab": {
          "base_uri": "https://localhost:8080/",
          "height": 238
        },
        "id": "DABvt6tLmopM",
        "outputId": "892ab903-a09b-4d43-adc1-4454dc1c3021"
      },
      "outputs": [
        {
          "output_type": "execute_result",
          "data": {
            "text/plain": [
              "                     Global_active_power   Global_reactive_power   Voltage  \\\n",
              "dt                                                                           \n",
              "24/01/2021 17:22:00                3.588                   0.502    233.47   \n",
              "24/02/2021 17:23:00              289.600                   0.213    269.09   \n",
              "24/03/2021 17:24:00                4.327                   0.277    238.32   \n",
              "24/04/2021 17:25:00                4.104                   0.399    253.43   \n",
              "24/05/2021 17:26:00                4.110                   0.104    112.00   \n",
              "\n",
              "                      Global_intensity   Sub_metering_1  Sub_metering_2  \\\n",
              "dt                                                                        \n",
              "24/01/2021 17:22:00              23.00              0.0            1.00   \n",
              "24/02/2021 17:23:00              22.12              0.0            3.00   \n",
              "24/03/2021 17:24:00              56.48              0.0            3.44   \n",
              "24/04/2021 17:25:00              16.26              0.0            7.34   \n",
              "24/05/2021 17:26:00              23.01              0.0           10.36   \n",
              "\n",
              "                     Sub_metering_3  \n",
              "dt                                   \n",
              "24/01/2021 17:22:00           17.00  \n",
              "24/02/2021 17:23:00            7.39  \n",
              "24/03/2021 17:24:00           11.82  \n",
              "24/04/2021 17:25:00           10.36  \n",
              "24/05/2021 17:26:00           11.84  "
            ],
            "text/html": [
              "\n",
              "  <div id=\"df-543ec7a8-d1fc-4f4d-b03b-21309599ec8d\">\n",
              "    <div class=\"colab-df-container\">\n",
              "      <div>\n",
              "<style scoped>\n",
              "    .dataframe tbody tr th:only-of-type {\n",
              "        vertical-align: middle;\n",
              "    }\n",
              "\n",
              "    .dataframe tbody tr th {\n",
              "        vertical-align: top;\n",
              "    }\n",
              "\n",
              "    .dataframe thead th {\n",
              "        text-align: right;\n",
              "    }\n",
              "</style>\n",
              "<table border=\"1\" class=\"dataframe\">\n",
              "  <thead>\n",
              "    <tr style=\"text-align: right;\">\n",
              "      <th></th>\n",
              "      <th>Global_active_power</th>\n",
              "      <th>Global_reactive_power</th>\n",
              "      <th>Voltage</th>\n",
              "      <th>Global_intensity</th>\n",
              "      <th>Sub_metering_1</th>\n",
              "      <th>Sub_metering_2</th>\n",
              "      <th>Sub_metering_3</th>\n",
              "    </tr>\n",
              "    <tr>\n",
              "      <th>dt</th>\n",
              "      <th></th>\n",
              "      <th></th>\n",
              "      <th></th>\n",
              "      <th></th>\n",
              "      <th></th>\n",
              "      <th></th>\n",
              "      <th></th>\n",
              "    </tr>\n",
              "  </thead>\n",
              "  <tbody>\n",
              "    <tr>\n",
              "      <th>24/01/2021 17:22:00</th>\n",
              "      <td>3.588</td>\n",
              "      <td>0.502</td>\n",
              "      <td>233.47</td>\n",
              "      <td>23.00</td>\n",
              "      <td>0.0</td>\n",
              "      <td>1.00</td>\n",
              "      <td>17.00</td>\n",
              "    </tr>\n",
              "    <tr>\n",
              "      <th>24/02/2021 17:23:00</th>\n",
              "      <td>289.600</td>\n",
              "      <td>0.213</td>\n",
              "      <td>269.09</td>\n",
              "      <td>22.12</td>\n",
              "      <td>0.0</td>\n",
              "      <td>3.00</td>\n",
              "      <td>7.39</td>\n",
              "    </tr>\n",
              "    <tr>\n",
              "      <th>24/03/2021 17:24:00</th>\n",
              "      <td>4.327</td>\n",
              "      <td>0.277</td>\n",
              "      <td>238.32</td>\n",
              "      <td>56.48</td>\n",
              "      <td>0.0</td>\n",
              "      <td>3.44</td>\n",
              "      <td>11.82</td>\n",
              "    </tr>\n",
              "    <tr>\n",
              "      <th>24/04/2021 17:25:00</th>\n",
              "      <td>4.104</td>\n",
              "      <td>0.399</td>\n",
              "      <td>253.43</td>\n",
              "      <td>16.26</td>\n",
              "      <td>0.0</td>\n",
              "      <td>7.34</td>\n",
              "      <td>10.36</td>\n",
              "    </tr>\n",
              "    <tr>\n",
              "      <th>24/05/2021 17:26:00</th>\n",
              "      <td>4.110</td>\n",
              "      <td>0.104</td>\n",
              "      <td>112.00</td>\n",
              "      <td>23.01</td>\n",
              "      <td>0.0</td>\n",
              "      <td>10.36</td>\n",
              "      <td>11.84</td>\n",
              "    </tr>\n",
              "  </tbody>\n",
              "</table>\n",
              "</div>\n",
              "      <button class=\"colab-df-convert\" onclick=\"convertToInteractive('df-543ec7a8-d1fc-4f4d-b03b-21309599ec8d')\"\n",
              "              title=\"Convert this dataframe to an interactive table.\"\n",
              "              style=\"display:none;\">\n",
              "        \n",
              "  <svg xmlns=\"http://www.w3.org/2000/svg\" height=\"24px\"viewBox=\"0 0 24 24\"\n",
              "       width=\"24px\">\n",
              "    <path d=\"M0 0h24v24H0V0z\" fill=\"none\"/>\n",
              "    <path d=\"M18.56 5.44l.94 2.06.94-2.06 2.06-.94-2.06-.94-.94-2.06-.94 2.06-2.06.94zm-11 1L8.5 8.5l.94-2.06 2.06-.94-2.06-.94L8.5 2.5l-.94 2.06-2.06.94zm10 10l.94 2.06.94-2.06 2.06-.94-2.06-.94-.94-2.06-.94 2.06-2.06.94z\"/><path d=\"M17.41 7.96l-1.37-1.37c-.4-.4-.92-.59-1.43-.59-.52 0-1.04.2-1.43.59L10.3 9.45l-7.72 7.72c-.78.78-.78 2.05 0 2.83L4 21.41c.39.39.9.59 1.41.59.51 0 1.02-.2 1.41-.59l7.78-7.78 2.81-2.81c.8-.78.8-2.07 0-2.86zM5.41 20L4 18.59l7.72-7.72 1.47 1.35L5.41 20z\"/>\n",
              "  </svg>\n",
              "      </button>\n",
              "      \n",
              "  <style>\n",
              "    .colab-df-container {\n",
              "      display:flex;\n",
              "      flex-wrap:wrap;\n",
              "      gap: 12px;\n",
              "    }\n",
              "\n",
              "    .colab-df-convert {\n",
              "      background-color: #E8F0FE;\n",
              "      border: none;\n",
              "      border-radius: 50%;\n",
              "      cursor: pointer;\n",
              "      display: none;\n",
              "      fill: #1967D2;\n",
              "      height: 32px;\n",
              "      padding: 0 0 0 0;\n",
              "      width: 32px;\n",
              "    }\n",
              "\n",
              "    .colab-df-convert:hover {\n",
              "      background-color: #E2EBFA;\n",
              "      box-shadow: 0px 1px 2px rgba(60, 64, 67, 0.3), 0px 1px 3px 1px rgba(60, 64, 67, 0.15);\n",
              "      fill: #174EA6;\n",
              "    }\n",
              "\n",
              "    [theme=dark] .colab-df-convert {\n",
              "      background-color: #3B4455;\n",
              "      fill: #D2E3FC;\n",
              "    }\n",
              "\n",
              "    [theme=dark] .colab-df-convert:hover {\n",
              "      background-color: #434B5C;\n",
              "      box-shadow: 0px 1px 3px 1px rgba(0, 0, 0, 0.15);\n",
              "      filter: drop-shadow(0px 1px 2px rgba(0, 0, 0, 0.3));\n",
              "      fill: #FFFFFF;\n",
              "    }\n",
              "  </style>\n",
              "\n",
              "      <script>\n",
              "        const buttonEl =\n",
              "          document.querySelector('#df-543ec7a8-d1fc-4f4d-b03b-21309599ec8d button.colab-df-convert');\n",
              "        buttonEl.style.display =\n",
              "          google.colab.kernel.accessAllowed ? 'block' : 'none';\n",
              "\n",
              "        async function convertToInteractive(key) {\n",
              "          const element = document.querySelector('#df-543ec7a8-d1fc-4f4d-b03b-21309599ec8d');\n",
              "          const dataTable =\n",
              "            await google.colab.kernel.invokeFunction('convertToInteractive',\n",
              "                                                     [key], {});\n",
              "          if (!dataTable) return;\n",
              "\n",
              "          const docLinkHtml = 'Like what you see? Visit the ' +\n",
              "            '<a target=\"_blank\" href=https://colab.research.google.com/notebooks/data_table.ipynb>data table notebook</a>'\n",
              "            + ' to learn more about interactive tables.';\n",
              "          element.innerHTML = '';\n",
              "          dataTable['output_type'] = 'display_data';\n",
              "          await google.colab.output.renderOutput(dataTable, element);\n",
              "          const docLink = document.createElement('div');\n",
              "          docLink.innerHTML = docLinkHtml;\n",
              "          element.appendChild(docLink);\n",
              "        }\n",
              "      </script>\n",
              "    </div>\n",
              "  </div>\n",
              "  "
            ]
          },
          "metadata": {},
          "execution_count": 22
        }
      ],
      "source": [
        "df.head()"
      ]
    },
    {
      "cell_type": "code",
      "source": [
        "daily_data=data.resample('D').sum()"
      ],
      "metadata": {
        "id": "DuNhGD7Xjir0",
        "colab": {
          "base_uri": "https://localhost:8080/",
          "height": 175
        },
        "outputId": "e3b2908f-14c1-4553-a69f-60284ab2eaad"
      },
      "execution_count": null,
      "outputs": [
        {
          "output_type": "error",
          "ename": "NameError",
          "evalue": "ignored",
          "traceback": [
            "\u001b[0;31m---------------------------------------------------------------------------\u001b[0m",
            "\u001b[0;31mNameError\u001b[0m                                 Traceback (most recent call last)",
            "\u001b[0;32m<ipython-input-23-8acb30a80223>\u001b[0m in \u001b[0;36m<module>\u001b[0;34m()\u001b[0m\n\u001b[0;32m----> 1\u001b[0;31m \u001b[0mdaily_data\u001b[0m\u001b[0;34m=\u001b[0m\u001b[0mdata\u001b[0m\u001b[0;34m.\u001b[0m\u001b[0mresample\u001b[0m\u001b[0;34m(\u001b[0m\u001b[0;34m'D'\u001b[0m\u001b[0;34m)\u001b[0m\u001b[0;34m.\u001b[0m\u001b[0msum\u001b[0m\u001b[0;34m(\u001b[0m\u001b[0;34m)\u001b[0m\u001b[0;34m\u001b[0m\u001b[0;34m\u001b[0m\u001b[0m\n\u001b[0m",
            "\u001b[0;31mNameError\u001b[0m: name 'data' is not defined"
          ]
        }
      ]
    },
    {
      "cell_type": "code",
      "source": [
        "df.info()"
      ],
      "metadata": {
        "colab": {
          "base_uri": "https://localhost:8080/"
        },
        "id": "uA3Fp5tRWXzf",
        "outputId": "cd157069-b936-454c-98a2-333c18c069b8"
      },
      "execution_count": null,
      "outputs": [
        {
          "output_type": "stream",
          "name": "stdout",
          "text": [
            "<class 'pandas.core.frame.DataFrame'>\n",
            "Index: 12 entries, 24/01/2021 17:22:00 to 24/12/2021 17/33/00\n",
            "Data columns (total 7 columns):\n",
            " #   Column                  Non-Null Count  Dtype  \n",
            "---  ------                  --------------  -----  \n",
            " 0   Global_active_power     12 non-null     float64\n",
            " 1    Global_reactive_power  12 non-null     float64\n",
            " 2    Voltage                12 non-null     float64\n",
            " 3    Global_intensity       12 non-null     float64\n",
            " 4    Sub_metering_1         12 non-null     float64\n",
            " 5   Sub_metering_2          12 non-null     float64\n",
            " 6   Sub_metering_3          12 non-null     float64\n",
            "dtypes: float64(7)\n",
            "memory usage: 768.0+ bytes\n"
          ]
        }
      ]
    },
    {
      "cell_type": "code",
      "source": [
        "df.plot(figsize=(12,6))"
      ],
      "metadata": {
        "colab": {
          "base_uri": "https://localhost:8080/",
          "height": 412
        },
        "id": "TinwYpcsLTpt",
        "outputId": "0d6f8b10-80f8-447a-8035-7a7475c8ca23"
      },
      "execution_count": null,
      "outputs": [
        {
          "output_type": "execute_result",
          "data": {
            "text/plain": [
              "<matplotlib.axes._subplots.AxesSubplot at 0x7f98764e6fd0>"
            ]
          },
          "metadata": {},
          "execution_count": 25
        },
        {
          "output_type": "display_data",
          "data": {
            "text/plain": [
              "<Figure size 864x432 with 1 Axes>"
            ],
            "image/png": "[encoded data removed]"
          },
          "metadata": {
            "needs_background": "light"
          }
        }
      ]
    },
    {
      "cell_type": "code",
      "source": [
        "from sklearn.metrics import mean_squared_error"
      ],
      "metadata": {
        "id": "Y2g0eSMRprBN"
      },
      "execution_count": null,
      "outputs": []
    },
    {
      "cell_type": "code",
      "source": [
        "len(df)"
      ],
      "metadata": {
        "colab": {
          "base_uri": "https://localhost:8080/"
        },
        "id": "7L69mNNbNdIP",
        "outputId": "77facc15-a6d0-418f-9dd9-979c40456866"
      },
      "execution_count": null,
      "outputs": [
        {
          "output_type": "execute_result",
          "data": {
            "text/plain": [
              "12"
            ]
          },
          "metadata": {},
          "execution_count": 27
        }
      ]
    },
    {
      "cell_type": "code",
      "source": [
        "train = df.iloc[:156]\n",
        "test = df.iloc[156:]"
      ],
      "metadata": {
        "id": "CeGW0lUbO82j"
      },
      "execution_count": null,
      "outputs": []
    },
    {
      "cell_type": "code",
      "source": [
        "df.head(),df.tail()"
      ],
      "metadata": {
        "colab": {
          "base_uri": "https://localhost:8080/"
        },
        "id": "JFzb1ftXPDO0",
        "outputId": "fbf0906c-59a3-4ee8-8c32-9bc2d2cf5006"
      },
      "execution_count": null,
      "outputs": [
        {
          "output_type": "execute_result",
          "data": {
            "text/plain": [
              "(                     Global_active_power   Global_reactive_power   Voltage  \\\n",
              " dt                                                                           \n",
              " 24/01/2021 17:22:00                3.588                   0.502    233.47   \n",
              " 24/02/2021 17:23:00              289.600                   0.213    269.09   \n",
              " 24/03/2021 17:24:00                4.327                   0.277    238.32   \n",
              " 24/04/2021 17:25:00                4.104                   0.399    253.43   \n",
              " 24/05/2021 17:26:00                4.110                   0.104    112.00   \n",
              " \n",
              "                       Global_intensity   Sub_metering_1  Sub_metering_2  \\\n",
              " dt                                                                        \n",
              " 24/01/2021 17:22:00              23.00              0.0            1.00   \n",
              " 24/02/2021 17:23:00              22.12              0.0            3.00   \n",
              " 24/03/2021 17:24:00              56.48              0.0            3.44   \n",
              " 24/04/2021 17:25:00              16.26              0.0            7.34   \n",
              " 24/05/2021 17:26:00              23.01              0.0           10.36   \n",
              " \n",
              "                      Sub_metering_3  \n",
              " dt                                   \n",
              " 24/01/2021 17:22:00           17.00  \n",
              " 24/02/2021 17:23:00            7.39  \n",
              " 24/03/2021 17:24:00           11.82  \n",
              " 24/04/2021 17:25:00           10.36  \n",
              " 24/05/2021 17:26:00           11.84  ,\n",
              "                      Global_active_power   Global_reactive_power   Voltage  \\\n",
              " dt                                                                           \n",
              " 24/08/2021 17:29:00                3.992                   2.336    469.34   \n",
              " 24/09/2021 17:30:00                5.374                   0.498    233.29   \n",
              " 24/10/2021 17:31:00                3.667                   0.365    252.90   \n",
              " 24/11/2021 17:32:00                6.350                   0.221    232.68   \n",
              " 24/12/2021 17/33/00                4.216                   0.418    234.84   \n",
              " \n",
              "                       Global_intensity   Sub_metering_1  Sub_metering_2  \\\n",
              " dt                                                                        \n",
              " 24/08/2021 17:29:00              15.08              0.0           10.32   \n",
              " 24/09/2021 17:30:00              23.00              0.0            2.01   \n",
              " 24/10/2021 17:31:00              18.06              0.0            1.01   \n",
              " 24/11/2021 17:32:00              14.88              0.0            2.00   \n",
              " 24/12/2021 17/33/00              18.04              0.0            1.00   \n",
              " \n",
              "                      Sub_metering_3  \n",
              " dt                                   \n",
              " 24/08/2021 17:29:00            12.0  \n",
              " 24/09/2021 17:30:00            17.0  \n",
              " 24/10/2021 17:31:00            17.0  \n",
              " 24/11/2021 17:32:00            10.0  \n",
              " 24/12/2021 17/33/00            16.0  )"
            ]
          },
          "metadata": {},
          "execution_count": 29
        }
      ]
    },
    {
      "cell_type": "code",
      "execution_count": null,
      "metadata": {
        "id": "fIMJukHBXfpj"
      },
      "outputs": [],
      "source": [
        "#You may save the CSV file according to the days\n",
        "df.to_csv(\"household_daily.csv\")"
      ]
    },
    {
      "cell_type": "code",
      "execution_count": null,
      "metadata": {
        "id": "NhKxXBiDnuQ0"
      },
      "outputs": [],
      "source": [
        "import matplotlib.pyplot as plt\n",
        "%matplotlib inline"
      ]
    },
    {
      "cell_type": "code",
      "execution_count": null,
      "metadata": {
        "colab": {
          "base_uri": "https://localhost:8080/",
          "height": 884
        },
        "id": "svQ4RRy1pXYS",
        "outputId": "81899465-aa04-435d-aec3-6aa869222d83"
      },
      "outputs": [
        {
          "output_type": "execute_result",
          "data": {
            "text/plain": [
              "[<matplotlib.lines.Line2D at 0x7f987644abd0>]"
            ]
          },
          "metadata": {},
          "execution_count": 32
        },
        {
          "output_type": "display_data",
          "data": {
            "text/plain": [
              "<Figure size 720x1080 with 1 Axes>"
            ],
            "image/png": "[encoded data removed]"
          },
          "metadata": {
            "needs_background": "light"
          }
        }
      ],
      "source": [
        "plt.figure(figsize=(10,15))\n",
        "plt.plot(df['Global_active_power'])"
      ]
    },
    {
      "cell_type": "code",
      "execution_count": null,
      "metadata": {
        "id": "S6Jh2KnppceR"
      },
      "outputs": [],
      "source": [
        "from sklearn.metrics import mean_squared_error"
      ]
    },
    {
      "cell_type": "code",
      "execution_count": null,
      "metadata": {
        "id": "Cj3vLfb-p0qh"
      },
      "outputs": [],
      "source": [
        "def forecasts(act,pred):\n",
        "    scores=[]\n",
        "    for i in range(act.shape[1]):\n",
        "        mse=mean_squared_error(act[:,i],pred[:,i])\n",
        "        rmse=np.sqrt(mse)\n",
        "        scores.append(rmse)\n",
        "    s=0\n",
        "    for row in range(act.shape[0]):\n",
        "        for col in range(act.shape[1]):\n",
        "            s+=(act[row,col]-pred[row,col])**2\n",
        "    score=np.sqrt(s/(act.shape[0]*act.shape[1]))\n",
        "    return score,scores"
      ]
    },
    {
      "cell_type": "code",
      "execution_count": null,
      "metadata": {
        "colab": {
          "base_uri": "https://localhost:8080/"
        },
        "id": "qbfNTNRxqI3Q",
        "outputId": "15727a68-1742-493d-a2ef-ea8aaa7ef1b0"
      },
      "outputs": [
        {
          "output_type": "execute_result",
          "data": {
            "text/plain": [
              "(12, 7)"
            ]
          },
          "metadata": {},
          "execution_count": 113
        }
      ],
      "source": [
        "df.shape"
      ]
    },
    {
      "cell_type": "code",
      "execution_count": null,
      "metadata": {
        "id": "MTmSuw8kqMto"
      },
      "outputs": [],
      "source": [
        "def split(data):\n",
        "    train,test=data[1:-328],data[-328:-6]\n",
        "    train=np.array(np.split(train,len(train)/7))\n",
        "    test=np.array(np.split(test,len(test)/7))\n",
        "    return train,test"
      ]
    },
    {
      "cell_type": "code",
      "execution_count": null,
      "metadata": {
        "id": "tpZ1wr7zrRf9"
      },
      "outputs": [],
      "source": [
        "def summarized_scores(name,score,scores):\n",
        "    s_scores=', '.join(['%.1f'%s for s in scores])\n",
        "    print('%s:[%.3f] %s'%(name,score,s_scores))"
      ]
    },
    {
      "cell_type": "code",
      "execution_count": null,
      "metadata": {
        "id": "4fbgwhbqrj9L"
      },
      "outputs": [],
      "source": [
        "def to_supervized(train,n_in,n_out):\n",
        "    data=train.reshape((train.shape[0]*train.shape[1],train.shape[2]))\n",
        "    X,y=[],[]\n",
        "    in_start=0\n",
        "    for i in range(len(data)):\n",
        "        in_end=in_start+n_in\n",
        "        out_end=in_end+n_out\n",
        "        if out_end<len(data):\n",
        "            x_in=data[in_start:in_end,0]\n",
        "            x_in=x_in.reshape((len(x_in),1))\n",
        "            X.append(x_in)\n",
        "            y.append(data[in_end:out_end,0])\n",
        "        in_start+=1\n",
        "    return np.array(X),np.array(y)"
      ]
    },
    {
      "cell_type": "code",
      "execution_count": null,
      "metadata": {
        "id": "MAWIseE7r3C6"
      },
      "outputs": [],
      "source": [
        "def build_model(train,n_input):\n",
        "    train_x,train_y=to_supervized(train,n_input,7)\n",
        "    verbose=0\n",
        "    epochs=70\n",
        "    batch_size=16\n",
        "    n_timesteps=train_x.shape[1]\n",
        "    n_features=train_x.shape[2]\n",
        "    n_outputs=train_y.shape[1]\n",
        "    model=Sequential()\n",
        "    model.add(LSTM(200,activation='relu',input_shape=(n_timesteps,n_features)))\n",
        "    model.add(Dense(100,activation='relu'))\n",
        "    model.add(Dense(n_outputs))\n",
        "    model.compile(loss='mse',optimizer='adam')\n",
        "    model.fit(train_x,train_y,epochs=epochs,batch_size=batch_size,verbose=verbose)\n",
        "    return model"
      ]
    },
    {
      "cell_type": "code",
      "execution_count": null,
      "metadata": {
        "id": "a1URHpzRsAfZ"
      },
      "outputs": [],
      "source": [
        "def forecast(model,history,n_input):\n",
        "    data=np.array(history)\n",
        "    data=data.reshape((data.shape[0]*data.shape[1],data.shape[2]))\n",
        "    in_x=data[-n_input:,0]\n",
        "    in_x=in_x.reshape((1,len(in_x),1))\n",
        "    yhat=model.predict(in_x,verbose=0)\n",
        "    return yhat[0]"
      ]
    },
    {
      "cell_type": "code",
      "execution_count": null,
      "metadata": {
        "id": "lg-NYAehsFqi"
      },
      "outputs": [],
      "source": [
        "def evaluate_model(train,test,n_input):\n",
        "    model=build_model(train,n_input)\n",
        "    history=[x for x in train]\n",
        "    prediction=[]\n",
        "    for i in range(len(test)):\n",
        "        yhat_s=forecast(model,history,n_input)\n",
        "        prediction.append(yhat_s)\n",
        "        history.append(test[i,:])\n",
        "    prediction=np.array(prediction)\n",
        "    score,scores=forecasts(test[:,:,0],prediction)\n",
        "    return score,scores"
      ]
    },
    {
      "cell_type": "code",
      "execution_count": null,
      "metadata": {
        "id": "zayWPj9UsK2z"
      },
      "outputs": [],
      "source": [
        "train=(df.values)"
      ]
    },
    {
      "cell_type": "code",
      "execution_count": null,
      "metadata": {
        "id": "xhtwwpGSsea7"
      },
      "outputs": [],
      "source": [
        "import numpy as np"
      ]
    },
    {
      "cell_type": "code",
      "execution_count": null,
      "metadata": {
        "id": "hmG30DDhFs8Q"
      },
      "outputs": [],
      "source": [
        "test=(df.values)"
      ]
    },
    {
      "cell_type": "code",
      "execution_count": null,
      "metadata": {
        "colab": {
          "base_uri": "https://localhost:8080/"
        },
        "id": "v5yKCUCnsv4Y",
        "outputId": "d8546578-604b-4305-9ee9-1eb9ff50edc9"
      },
      "outputs": [
        {
          "output_type": "execute_result",
          "data": {
            "text/plain": [
              "(12, 7)"
            ]
          },
          "metadata": {},
          "execution_count": 123
        }
      ],
      "source": [
        "train.shape"
      ]
    },
    {
      "cell_type": "code",
      "execution_count": null,
      "metadata": {
        "colab": {
          "base_uri": "https://localhost:8080/"
        },
        "id": "u70r97tTtMLg",
        "outputId": "2d1589c7-e5cb-49e8-8d53-b0514f59d483"
      },
      "outputs": [
        {
          "output_type": "execute_result",
          "data": {
            "text/plain": [
              "(12, 7)"
            ]
          },
          "metadata": {},
          "execution_count": 124
        }
      ],
      "source": [
        "test.shape"
      ]
    },
    {
      "cell_type": "code",
      "execution_count": null,
      "metadata": {
        "id": "UXnpyciDFWxY"
      },
      "outputs": [],
      "source": [
        "days =['sun','mon','tue','wed','thr','fri','sat']\n"
      ]
    },
    {
      "cell_type": "code",
      "execution_count": null,
      "metadata": {
        "id": "N1oYLf24SAPP"
      },
      "outputs": [],
      "source": [
        "from matplotlib import pyplot as plt"
      ]
    },
    {
      "cell_type": "code",
      "execution_count": null,
      "metadata": {
        "colab": {
          "base_uri": "https://localhost:8080/",
          "height": 337
        },
        "id": "PfETvOnAFYdw",
        "outputId": "35095331-85bc-4fda-dfc0-98b19fecb887"
      },
      "outputs": [
        {
          "output_type": "execute_result",
          "data": {
            "text/plain": [
              "[<matplotlib.lines.Line2D at 0x7f4dd1fd48d0>]"
            ]
          },
          "metadata": {},
          "execution_count": 149
        },
        {
          "output_type": "display_data",
          "data": {
            "text/plain": [
              "<Figure size 720x360 with 1 Axes>"
            ],
            "image/png": "[encoded data removed]"
          },
          "metadata": {
            "needs_background": "light"
          }
        }
      ],
      "source": [
        "plt.figure(figsize=(10,5))\n",
        "plt.plot(days)"
      ]
    },
    {
      "cell_type": "code",
      "execution_count": null,
      "metadata": {
        "colab": {
          "base_uri": "https://localhost:8080/",
          "height": 297
        },
        "id": "L6QbrgsMWEJj",
        "outputId": "252c236d-3c67-45af-df8b-bcb0413564ca"
      },
      "outputs": [
        {
          "output_type": "display_data",
          "data": {
            "text/plain": [
              "<Figure size 432x288 with 1 Axes>"
            ],
            "image/png": "[encoded data removed]"
          },
          "metadata": {}
        }
      ],
      "source": [
        "import matplotlib.pyplot as plt\n",
        "\n",
        "labels = ['Water Heating', 'Lighting', 'A/C', 'Refrigeration','Other Applications','Climate Control']\n",
        "sizes = [9.2, 9.45, 6, 14.5, 36.0, 26]\n",
        "colors = ['blue', 'green', 'lightskyblue', 'pink','orange','red']\n",
        "patches, texts = plt.pie(sizes, colors=colors, shadow=True, startangle=90)\n",
        "plt.legend(patches, labels, loc=\"best\")\n",
        "plt.axis('equal')\n",
        "plt.tight_layout()\n",
        "plt.show()"
      ]
    },
    {
      "cell_type": "code",
      "source": [
        "LSTM =['9.2', '9.45', '6', '14.5', '36.0', '26']"
      ],
      "metadata": {
        "id": "lw2g5VUIcsi1"
      },
      "execution_count": null,
      "outputs": []
    },
    {
      "cell_type": "code",
      "source": [
        "plt.figure(figsize=(10,5))\n",
        "plt.plot(LSTM)"
      ],
      "metadata": {
        "colab": {
          "base_uri": "https://localhost:8080/",
          "height": 340
        },
        "id": "x_SlwBxztseS",
        "outputId": "913001ca-7d2b-4823-b478-f04e15788996"
      },
      "execution_count": null,
      "outputs": [
        {
          "output_type": "execute_result",
          "data": {
            "text/plain": [
              "[<matplotlib.lines.Line2D at 0x7f98df83e410>]"
            ]
          },
          "metadata": {},
          "execution_count": 12
        },
        {
          "output_type": "display_data",
          "data": {
            "text/plain": [
              "<Figure size 720x360 with 1 Axes>"
            ],
            "image/png": "[encoded data removed]"
          },
          "metadata": {
            "needs_background": "light"
          }
        }
      ]
    },
    {
      "cell_type": "code",
      "source": [],
      "metadata": {
        "id": "Gsj4oSkEtwZn"
      },
      "execution_count": null,
      "outputs": []
    }
  ],
  "metadata": {
    "colab": {
      "provenance": []
    },
    "kernelspec": {
      "display_name": "Python 3",
      "name": "python3"
    },
    "language_info": {
      "name": "python"
    }
  },
  "nbformat": 4,
  "nbformat_minor": 0
}